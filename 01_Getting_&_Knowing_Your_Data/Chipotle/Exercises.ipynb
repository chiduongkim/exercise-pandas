version https://git-lfs.github.com/spec/v1
oid sha256:2a2df15e717414231c133b7aa5599f7d6308b7882319c26eef052b0b7c051847
size 14482
