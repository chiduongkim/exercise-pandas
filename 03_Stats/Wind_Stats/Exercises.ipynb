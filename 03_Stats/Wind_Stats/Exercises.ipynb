version https://git-lfs.github.com/spec/v1
oid sha256:226ad6c0c3094bf8f3d57020f951273281350cd1892cec857f451623ce4578e5
size 25564
