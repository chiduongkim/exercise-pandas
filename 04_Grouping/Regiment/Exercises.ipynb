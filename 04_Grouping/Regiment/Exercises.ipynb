version https://git-lfs.github.com/spec/v1
oid sha256:df20ec8c24b47800f7c42abaf1ccc84af115e0a196b3b4c80428d5f86f399507
size 10550
