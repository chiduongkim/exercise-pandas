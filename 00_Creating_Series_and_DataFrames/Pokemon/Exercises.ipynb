version https://git-lfs.github.com/spec/v1
oid sha256:115ba2eacb6ebaefecb0fa6eaa877090274e69e7cfc133220e7d50b3aa5149cc
size 5690
